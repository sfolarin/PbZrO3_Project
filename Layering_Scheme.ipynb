{
 "cells": [
  {
   "cell_type": "code",
   "execution_count": 12,
   "id": "f9204c52",
   "metadata": {},
   "outputs": [
    {
     "name": "stdout",
     "output_type": "stream",
     "text": [
      "Enter the z-coordinates of interest separated by commas: 0.075979,0.086754,0.110059 \n",
      "Atoms with z-coordinate = 0.075979: \n",
      "Index = 65, Species = O\n",
      "Index = 67, Species = O\n",
      "Index = 70, Species = O\n",
      "Index = 72, Species = O\n",
      "Index = 73, Species = O\n",
      "Index = 76, Species = O\n",
      "Index = 77, Species = O\n",
      "Index = 80, Species = O\n",
      "Atoms with z-coordinate = 0.086754: \n",
      "Index = 49, Species = O\n",
      "Index = 52, Species = O\n",
      "Index = 53, Species = O\n",
      "Index = 56, Species = O\n",
      "Index = 57, Species = O\n",
      "Index = 59, Species = O\n",
      "Index = 62, Species = O\n",
      "Index = 64, Species = O\n",
      "Atoms with z-coordinate = 0.110059: \n",
      "Index = 81, Species = O\n",
      "Index = 83, Species = O\n",
      "Index = 86, Species = O\n",
      "Index = 88, Species = O\n",
      "Index = 89, Species = O\n",
      "Index = 91, Species = O\n",
      "Index = 94, Species = O\n",
      "Index = 96, Species = O\n",
      "Index = 97, Species = O\n",
      "Index = 99, Species = O\n",
      "Index = 102, Species = O\n",
      "Index = 104, Species = O\n",
      "Index = 105, Species = O\n",
      "Index = 107, Species = O\n",
      "Index = 110, Species = O\n",
      "Index = 112, Species = O\n"
     ]
    }
   ],
   "source": [
    "import numpy as np\n",
    "from pymatgen.core.structure import Structure\n",
    "\n",
    "# Load the crystal structure\n",
    "structure = Structure.from_file(\"Correct_Layer_3.cif\")\n",
    "\n",
    "# Prompt the user for the z-coordinates of interest\n",
    "z_coords_str = input(\"Enter the z-coordinates of interest separated by commas: \")\n",
    "z_coords = [float(z.strip()) for z in z_coords_str.split(\",\")]\n",
    "\n",
    "# Identify the indices of the atoms with the given z-coordinates\n",
    "atom_indices = []\n",
    "for z_coord in z_coords:\n",
    "    indices = np.where(np.isclose([site.frac_coords[2] for site in structure], z_coord))[0] + 1\n",
    "    atom_indices.append(indices)\n",
    "\n",
    "# Print out the atom indices and species\n",
    "for i, indices in enumerate(atom_indices):\n",
    "    print(\"Atoms with z-coordinate = {}: \".format(z_coords[i]))\n",
    "    for index in indices:\n",
    "        print(\"Index = {}, Species = {}\".format(index, structure[index-1].specie))\n"
   ]
  },
  {
   "cell_type": "code",
   "execution_count": 15,
   "id": "2d1eccb1",
   "metadata": {},
   "outputs": [
    {
     "name": "stdout",
     "output_type": "stream",
     "text": [
      "Enter the z-coordinates of interest separated by commas: 0.075979,0.086754,0.110059\n"
     ]
    }
   ],
   "source": [
    "import numpy as np\n",
    "from pymatgen.core.structure import Structure\n",
    "\n",
    "# Load the crystal structure\n",
    "structure = Structure.from_file(\"Correct_Layer_3.cif\")\n",
    "\n",
    "# Prompt the user for the z-coordinates of interest\n",
    "z_coords_str = input(\"Enter the z-coordinates of interest separated by commas: \")\n",
    "z_coords = [float(z.strip()) for z in z_coords_str.split(\",\")]\n",
    "\n",
    "# Identify the indices and symbols of the atoms with the given z-coordinates\n",
    "atom_indices = []\n",
    "atom_symbols = []\n",
    "for z_coord in z_coords:\n",
    "    indices = np.where(np.isclose([site.frac_coords[2] for site in structure], z_coord))[0] + 1\n",
    "    symbols = [structure[i-1].specie.symbol for i in indices]\n",
    "    atom_indices.append(indices)\n",
    "    atom_symbols.append(symbols)\n",
    "\n",
    "# Write the atom indices and symbols to file\n",
    "with open(\"atom_indices.txt\", \"w\") as f:\n",
    "    for i in range(len(atom_indices)):\n",
    "        indices_str = \" \".join(str(i) for i in atom_indices[i])\n",
    "        symbols_str = \" \".join(atom_symbols[i])\n",
    "        f.write(indices_str + \"\\t\" + symbols_str + \"\\n\")\n"
   ]
  }
 ],
 "metadata": {
  "kernelspec": {
   "display_name": "Python 3 (ipykernel)",
   "language": "python",
   "name": "python3"
  },
  "language_info": {
   "codemirror_mode": {
    "name": "ipython",
    "version": 3
   },
   "file_extension": ".py",
   "mimetype": "text/x-python",
   "name": "python",
   "nbconvert_exporter": "python",
   "pygments_lexer": "ipython3",
   "version": "3.9.12"
  }
 },
 "nbformat": 4,
 "nbformat_minor": 5
}
