{
 "cells": [
  {
   "cell_type": "code",
   "execution_count": 17,
   "id": "f9a28d97",
   "metadata": {},
   "outputs": [
    {
     "name": "stdout",
     "output_type": "stream",
     "text": [
      "Pb indices: []\n",
      "Zr indices: [52, 56, 58, 62, 68, 72, 74, 78, 84, 88, 90, 94, 100, 104, 106, 110]\n",
      "O indices: [116, 118, 124, 126, 132, 136, 138, 142, 148, 152, 154, 158, 164, 166, 172, 174, 180, 184, 186, 190, 196, 200, 202, 206, 212, 216, 218, 222, 228, 232, 234, 238]\n"
     ]
    }
   ],
   "source": [
    "import numpy as np\n",
    "from pymatgen.core.structure import Structure\n",
    "\n",
    "# Load the crystal structure\n",
    "structure = Structure.from_file(\"Correct_Layer_7.cif\")\n",
    "\n",
    "# Define the order of the elements\n",
    "element_order = ['Pb', 'Zr', 'O']\n",
    "\n",
    "# Get the indices of the sites for each element\n",
    "element_indices = {}\n",
    "for element in element_order:\n",
    "    indices = [i for i, site in enumerate(structure.sites) if site.specie.symbol == element]\n",
    "    element_indices[element] = indices\n",
    "\n",
    "# Reorder the sites in the structure object\n",
    "new_sites = []\n",
    "for element in element_order:\n",
    "    for index in element_indices[element]:\n",
    "        new_sites.append(structure.sites[index])\n",
    "\n",
    "structure = Structure.from_sites(new_sites)\n",
    "\n",
    "\n",
    "# Define the z-coordinates of interest\n",
    "########################################\n",
    "#             7 Layers                 #\n",
    "#Layer1: 0.455604, 0.446327, 0.469321, 0.462051\n",
    "#Layer2: 0.390440\n",
    "#Layer3:0.325275, 0.318828 , 0.311558, 0.334552\n",
    "#Layer4: 0.260293 \n",
    "#Layer5: 0.195311, 0.201758, 0.186034, 0.209028 \n",
    "#Layer6: 0.130147\n",
    "#Layer7: 0.064982, 0.058535, 0.074259, 0.051265\n",
    "z_coords = [0.455604, 0.446327, 0.469321, 0.462051]\n",
    "\n",
    "# Loop over the sites in the structure and find the indices of atoms with the desired z-coordinate\n",
    "pb_indices = []\n",
    "zr_indices = []\n",
    "o_indices = []\n",
    "for i, site in enumerate(structure):\n",
    "    if site.specie.symbol == \"Pb\" and site.frac_coords[2] in z_coords:\n",
    "        pb_indices.append(i+1)  # Add 1 to convert from 0-indexed to 1-indexed\n",
    "    elif site.specie.symbol == \"Zr\" and site.frac_coords[2] in z_coords:\n",
    "        zr_indices.append(i+1)\n",
    "    elif site.specie.symbol == \"O\" and site.frac_coords[2] in z_coords:\n",
    "        o_indices.append(i+1)\n",
    "\n",
    "# Write the indices of the atoms with the desired z-coordinate to file\n",
    "with open(\"Layer7_One.txt\", \"w\") as f:\n",
    "    f.write(\"Pb indices: \" + \" \".join(str(i) for i in pb_indices) + \"\\n\")\n",
    "    f.write(\"Zr indices: \" + \" \".join(str(i) for i in zr_indices) + \"\\n\")\n",
    "    f.write(\"O indices: \" + \" \".join(str(i) for i in o_indices) + \"\\n\")\n",
    "\n",
    "# Print the indices of the atoms with the desired z-coordinate\n",
    "print(\"Pb indices:\", pb_indices)\n",
    "print(\"Zr indices:\", zr_indices)\n",
    "print(\"O indices:\", o_indices)\n"
   ]
  }
 ],
 "metadata": {
  "kernelspec": {
   "display_name": "Python 3 (ipykernel)",
   "language": "python",
   "name": "python3"
  },
  "language_info": {
   "codemirror_mode": {
    "name": "ipython",
    "version": 3
   },
   "file_extension": ".py",
   "mimetype": "text/x-python",
   "name": "python",
   "nbconvert_exporter": "python",
   "pygments_lexer": "ipython3",
   "version": "3.9.12"
  }
 },
 "nbformat": 4,
 "nbformat_minor": 5
}
